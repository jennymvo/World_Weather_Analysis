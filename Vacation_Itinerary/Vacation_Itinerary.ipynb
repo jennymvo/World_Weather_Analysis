{
 "cells": [
  {
   "cell_type": "markdown",
   "metadata": {},
   "source": [
    "# Deliverable 3. Create a Travel Itinerary Map.\n",
    "----\n",
    "1. Import the vacation CSV file. \n",
    "2. From the map above with pick 4 cities that are in close proximity (on the same continent) that the customer would travel to and create a directions layer map.\n",
    "3. For the \"travel_mode\" use either \"DRIVING\", \"BICYCLING\", or \"WALKING\".\n",
    "4. Take a screenshot of the route and save it. \n",
    "5. Then create a marker layer for the four cities. Each city will should have a pop-up marker that contains\n",
    "    - The hotel name\n",
    "    - The city\n",
    "    - The country\n",
    "    - The current weather description and the maximum temperature\n",
    "---"
   ]
  },
  {
   "cell_type": "markdown",
   "metadata": {},
   "source": [
    "## Make sure the initial dependencies and the Google API key are imported."
   ]
  },
  {
   "cell_type": "code",
   "execution_count": 1,
   "metadata": {},
   "outputs": [],
   "source": [
    "# Dependencies and Setup\n",
    "import pandas as pd\n",
    "import requests\n",
    "import gmaps\n",
    "\n",
    "# Import API key\n",
    "from config import g_key"
   ]
  },
  {
   "cell_type": "code",
   "execution_count": 2,
   "metadata": {},
   "outputs": [],
   "source": [
    "# Configure gmaps\n",
    "gmaps.configure(api_key=g_key)"
   ]
  },
  {
   "cell_type": "markdown",
   "metadata": {},
   "source": [
    "## From your `Vacation_Search` folder from Deliverable 2, import the `WeatherPy_vacation.csv` file as a DataFrame named `vacation_df`"
   ]
  },
  {
   "cell_type": "code",
   "execution_count": 3,
   "metadata": {},
   "outputs": [
    {
     "data": {
      "text/html": [
       "<div>\n",
       "<style scoped>\n",
       "    .dataframe tbody tr th:only-of-type {\n",
       "        vertical-align: middle;\n",
       "    }\n",
       "\n",
       "    .dataframe tbody tr th {\n",
       "        vertical-align: top;\n",
       "    }\n",
       "\n",
       "    .dataframe thead th {\n",
       "        text-align: right;\n",
       "    }\n",
       "</style>\n",
       "<table border=\"1\" class=\"dataframe\">\n",
       "  <thead>\n",
       "    <tr style=\"text-align: right;\">\n",
       "      <th></th>\n",
       "      <th>Unnamed: 0</th>\n",
       "      <th>City_ID</th>\n",
       "      <th>City</th>\n",
       "      <th>Country</th>\n",
       "      <th>Lat</th>\n",
       "      <th>Lng</th>\n",
       "      <th>Max Temp</th>\n",
       "      <th>Humidity</th>\n",
       "      <th>Cloudiness</th>\n",
       "      <th>Wind Speed</th>\n",
       "      <th>Current Description</th>\n",
       "      <th>Hotel Name</th>\n",
       "    </tr>\n",
       "  </thead>\n",
       "  <tbody>\n",
       "    <tr>\n",
       "      <th>0</th>\n",
       "      <td>0</td>\n",
       "      <td>0</td>\n",
       "      <td>Saint-Pierre</td>\n",
       "      <td>RE</td>\n",
       "      <td>-21.3393</td>\n",
       "      <td>55.4781</td>\n",
       "      <td>78.91</td>\n",
       "      <td>61</td>\n",
       "      <td>0</td>\n",
       "      <td>18.41</td>\n",
       "      <td>clear sky</td>\n",
       "      <td>Alize Plage</td>\n",
       "    </tr>\n",
       "    <tr>\n",
       "      <th>1</th>\n",
       "      <td>2</td>\n",
       "      <td>2</td>\n",
       "      <td>Port Alfred</td>\n",
       "      <td>ZA</td>\n",
       "      <td>-33.5906</td>\n",
       "      <td>26.8910</td>\n",
       "      <td>70.57</td>\n",
       "      <td>80</td>\n",
       "      <td>100</td>\n",
       "      <td>7.52</td>\n",
       "      <td>overcast clouds</td>\n",
       "      <td>The Halyards Hotel</td>\n",
       "    </tr>\n",
       "    <tr>\n",
       "      <th>2</th>\n",
       "      <td>3</td>\n",
       "      <td>3</td>\n",
       "      <td>Hithadhoo</td>\n",
       "      <td>MV</td>\n",
       "      <td>-0.6000</td>\n",
       "      <td>73.0833</td>\n",
       "      <td>80.80</td>\n",
       "      <td>71</td>\n",
       "      <td>97</td>\n",
       "      <td>9.06</td>\n",
       "      <td>overcast clouds</td>\n",
       "      <td>Scoop Guest House</td>\n",
       "    </tr>\n",
       "    <tr>\n",
       "      <th>3</th>\n",
       "      <td>6</td>\n",
       "      <td>6</td>\n",
       "      <td>Iguape</td>\n",
       "      <td>BR</td>\n",
       "      <td>-24.7081</td>\n",
       "      <td>-47.5553</td>\n",
       "      <td>66.88</td>\n",
       "      <td>95</td>\n",
       "      <td>27</td>\n",
       "      <td>3.62</td>\n",
       "      <td>scattered clouds</td>\n",
       "      <td>Hotel Pousada Nossa Senhora do Carmo</td>\n",
       "    </tr>\n",
       "    <tr>\n",
       "      <th>4</th>\n",
       "      <td>11</td>\n",
       "      <td>11</td>\n",
       "      <td>Yanam</td>\n",
       "      <td>IN</td>\n",
       "      <td>16.7333</td>\n",
       "      <td>82.2167</td>\n",
       "      <td>87.33</td>\n",
       "      <td>65</td>\n",
       "      <td>80</td>\n",
       "      <td>5.19</td>\n",
       "      <td>broken clouds</td>\n",
       "      <td>The Regency Hotel</td>\n",
       "    </tr>\n",
       "    <tr>\n",
       "      <th>...</th>\n",
       "      <td>...</td>\n",
       "      <td>...</td>\n",
       "      <td>...</td>\n",
       "      <td>...</td>\n",
       "      <td>...</td>\n",
       "      <td>...</td>\n",
       "      <td>...</td>\n",
       "      <td>...</td>\n",
       "      <td>...</td>\n",
       "      <td>...</td>\n",
       "      <td>...</td>\n",
       "      <td>...</td>\n",
       "    </tr>\n",
       "    <tr>\n",
       "      <th>370</th>\n",
       "      <td>692</td>\n",
       "      <td>692</td>\n",
       "      <td>Dharchula</td>\n",
       "      <td>IN</td>\n",
       "      <td>29.8500</td>\n",
       "      <td>80.5333</td>\n",
       "      <td>75.43</td>\n",
       "      <td>43</td>\n",
       "      <td>0</td>\n",
       "      <td>5.77</td>\n",
       "      <td>clear sky</td>\n",
       "      <td>Mahara Hotel</td>\n",
       "    </tr>\n",
       "    <tr>\n",
       "      <th>371</th>\n",
       "      <td>694</td>\n",
       "      <td>694</td>\n",
       "      <td>Neka</td>\n",
       "      <td>IR</td>\n",
       "      <td>36.6508</td>\n",
       "      <td>53.2990</td>\n",
       "      <td>72.91</td>\n",
       "      <td>78</td>\n",
       "      <td>75</td>\n",
       "      <td>2.30</td>\n",
       "      <td>broken clouds</td>\n",
       "      <td>گالری گل وندا</td>\n",
       "    </tr>\n",
       "    <tr>\n",
       "      <th>372</th>\n",
       "      <td>698</td>\n",
       "      <td>698</td>\n",
       "      <td>Colares</td>\n",
       "      <td>PT</td>\n",
       "      <td>38.7992</td>\n",
       "      <td>-9.4469</td>\n",
       "      <td>67.33</td>\n",
       "      <td>90</td>\n",
       "      <td>54</td>\n",
       "      <td>11.99</td>\n",
       "      <td>broken clouds</td>\n",
       "      <td>Arribas Sintra Hotel</td>\n",
       "    </tr>\n",
       "    <tr>\n",
       "      <th>373</th>\n",
       "      <td>701</td>\n",
       "      <td>701</td>\n",
       "      <td>Dalkola</td>\n",
       "      <td>IN</td>\n",
       "      <td>25.8500</td>\n",
       "      <td>87.8500</td>\n",
       "      <td>84.85</td>\n",
       "      <td>57</td>\n",
       "      <td>1</td>\n",
       "      <td>6.87</td>\n",
       "      <td>clear sky</td>\n",
       "      <td>Hotel Oasis Palace</td>\n",
       "    </tr>\n",
       "    <tr>\n",
       "      <th>374</th>\n",
       "      <td>702</td>\n",
       "      <td>702</td>\n",
       "      <td>Acarau</td>\n",
       "      <td>BR</td>\n",
       "      <td>-2.8856</td>\n",
       "      <td>-40.1200</td>\n",
       "      <td>78.03</td>\n",
       "      <td>81</td>\n",
       "      <td>27</td>\n",
       "      <td>17.56</td>\n",
       "      <td>scattered clouds</td>\n",
       "      <td>castelo pizzaria</td>\n",
       "    </tr>\n",
       "  </tbody>\n",
       "</table>\n",
       "<p>375 rows × 12 columns</p>\n",
       "</div>"
      ],
      "text/plain": [
       "     Unnamed: 0  City_ID          City Country      Lat      Lng  Max Temp  \\\n",
       "0             0        0  Saint-Pierre      RE -21.3393  55.4781     78.91   \n",
       "1             2        2   Port Alfred      ZA -33.5906  26.8910     70.57   \n",
       "2             3        3     Hithadhoo      MV  -0.6000  73.0833     80.80   \n",
       "3             6        6        Iguape      BR -24.7081 -47.5553     66.88   \n",
       "4            11       11         Yanam      IN  16.7333  82.2167     87.33   \n",
       "..          ...      ...           ...     ...      ...      ...       ...   \n",
       "370         692      692     Dharchula      IN  29.8500  80.5333     75.43   \n",
       "371         694      694          Neka      IR  36.6508  53.2990     72.91   \n",
       "372         698      698       Colares      PT  38.7992  -9.4469     67.33   \n",
       "373         701      701       Dalkola      IN  25.8500  87.8500     84.85   \n",
       "374         702      702        Acarau      BR  -2.8856 -40.1200     78.03   \n",
       "\n",
       "     Humidity  Cloudiness  Wind Speed Current Description  \\\n",
       "0          61           0       18.41           clear sky   \n",
       "1          80         100        7.52     overcast clouds   \n",
       "2          71          97        9.06     overcast clouds   \n",
       "3          95          27        3.62    scattered clouds   \n",
       "4          65          80        5.19       broken clouds   \n",
       "..        ...         ...         ...                 ...   \n",
       "370        43           0        5.77           clear sky   \n",
       "371        78          75        2.30       broken clouds   \n",
       "372        90          54       11.99       broken clouds   \n",
       "373        57           1        6.87           clear sky   \n",
       "374        81          27       17.56    scattered clouds   \n",
       "\n",
       "                               Hotel Name  \n",
       "0                             Alize Plage  \n",
       "1                      The Halyards Hotel  \n",
       "2                       Scoop Guest House  \n",
       "3    Hotel Pousada Nossa Senhora do Carmo  \n",
       "4                       The Regency Hotel  \n",
       "..                                    ...  \n",
       "370                          Mahara Hotel  \n",
       "371                         گالری گل وندا  \n",
       "372                  Arribas Sintra Hotel  \n",
       "373                    Hotel Oasis Palace  \n",
       "374                      castelo pizzaria  \n",
       "\n",
       "[375 rows x 12 columns]"
      ]
     },
     "execution_count": 3,
     "metadata": {},
     "output_type": "execute_result"
    }
   ],
   "source": [
    "# Read the WeatherPy_vacation.csv into a DataFrame\n",
    "vacation_df = pd.read_csv(\"../Vacation_Search/WeatherPy_vacation.csv\")\n",
    "\n",
    "# Display sample data\n",
    "vacation_df"
   ]
  },
  {
   "cell_type": "markdown",
   "metadata": {},
   "source": [
    "**Note:** If the resulting DataFrame is empty, uncomment the following code to load sample data into the `clean_hotel_df`."
   ]
  },
  {
   "cell_type": "code",
   "execution_count": 4,
   "metadata": {},
   "outputs": [],
   "source": [
    "# In case of an empty DataFrame, load the sample data provided\n",
    "# clean_hotel_df = pd.read_csv(\"WeatherPy_vacation-backup.csv\")\n",
    "# clean_hotel_df.head(10)"
   ]
  },
  {
   "cell_type": "markdown",
   "metadata": {
    "tags": []
   },
   "source": [
    "## In this step, you will set-up the pop-up markers. Review the code to create a marker layer map of the vacation search results. This code is the same as in Deliverable 2."
   ]
  },
  {
   "cell_type": "code",
   "execution_count": 5,
   "metadata": {},
   "outputs": [],
   "source": [
    "# Review the formatting template\n",
    "info_box_template = \"\"\"\n",
    "<dl>\n",
    "<dt>Hotel Name</dt><dd>{Hotel Name}</dd>\n",
    "<dt>City</dt><dd>{City}</dd>\n",
    "<dt>Country</dt><dd>{Country}</dd>\n",
    "<dt>Current Weather</dt><dd>{Current Description} and {Max Temp} °F</dd>\n",
    "</dl>\n",
    "\"\"\"\n",
    "\n",
    "# Get the data from each row and add it to the formatting template and store the data in a list\n",
    "hotel_info = [info_box_template.format(**row) for index, row in vacation_df.iterrows()]\n",
    "\n",
    "# Get the latitude and longitude from each row and store in a new DataFrame.\n",
    "locations = vacation_df[[\"Lat\", \"Lng\"]]"
   ]
  },
  {
   "cell_type": "code",
   "execution_count": 6,
   "metadata": {},
   "outputs": [
    {
     "data": {
      "application/vnd.jupyter.widget-view+json": {
       "model_id": "2f3203a79e4546948bee43ae95697224",
       "version_major": 2,
       "version_minor": 0
      },
      "text/plain": [
       "Figure(layout=FigureLayout(height='420px'))"
      ]
     },
     "execution_count": 6,
     "metadata": {},
     "output_type": "execute_result"
    }
   ],
   "source": [
    "import collections\n",
    "collections.Iterable = collections.abc.Iterable\n",
    "\n",
    "# Add a marker layer for each city to the map.\n",
    "marker_layer = gmaps.marker_layer(locations, info_box_content=hotel_info)\n",
    "fig = gmaps.figure()\n",
    "fig.add_layer(marker_layer)\n",
    "\n",
    "# Display the figure\n",
    "fig"
   ]
  },
  {
   "cell_type": "markdown",
   "metadata": {},
   "source": [
    "## From the vacation search map, *choose four cities* that a customer might want to visit. They should be close together and in the same country."
   ]
  },
  {
   "cell_type": "code",
   "execution_count": 20,
   "metadata": {},
   "outputs": [],
   "source": [
    "# Create DataFrames for each city by filtering the 'vacation_df' using the loc method. \n",
    "# The starting and ending city should be the same city\n",
    "\n",
    "vacation_start = vacation_df.loc[vacation_df['City'] == 'Ascension']\n",
    "vacation_end = vacation_df.loc[vacation_df['City'] == 'Ascension']\n",
    "vacation_stop1 = vacation_df.loc[vacation_df['City'] == 'Picayune']\n",
    "vacation_stop2 = vacation_df.loc[vacation_df['City'] == 'Pascagoula']\n",
    "vacation_stop3 = vacation_df.loc[vacation_df['City'] == 'Estelle']\n"
   ]
  },
  {
   "cell_type": "markdown",
   "metadata": {},
   "source": [
    "## Use the `to_numpy()` function and list indexing to write code to retrieve the latitude-longitude pairs as tuples from each city DataFrame."
   ]
  },
  {
   "cell_type": "code",
   "execution_count": 21,
   "metadata": {},
   "outputs": [
    {
     "data": {
      "text/plain": [
       "(29.8458, -90.1067)"
      ]
     },
     "execution_count": 21,
     "metadata": {},
     "output_type": "execute_result"
    }
   ],
   "source": [
    "# Get the latitude-longitude pairs as tuples from each city DataFrame using the to_numpy function and list indexing.\n",
    "start = vacation_start[['Lat','Lng']].to_numpy()\n",
    "end = vacation_end[['Lat', 'Lng']].to_numpy()\n",
    "stop1 = vacation_stop1[['Lat', 'Lng']].to_numpy()\n",
    "stop2 = vacation_stop2[['Lat', 'Lng']].to_numpy()\n",
    "stop3 = vacation_stop3[['Lat', 'Lng']].to_numpy()\n",
    "\n",
    "\n",
    "tuple_start = tuple(start[0])\n",
    "tuple_end = tuple(end[0])\n",
    "tuple_stop1 = tuple(stop1[0])\n",
    "tuple_stop2 = tuple(stop2[0])\n",
    "tuple_stop3 = tuple(stop3[0])\n",
    "\n",
    "tuple_stop3"
   ]
  },
  {
   "cell_type": "markdown",
   "metadata": {},
   "source": [
    "## Use the [gmaps documentation](https://jupyter-gmaps.readthedocs.io/en/latest/tutorial.html#directions-layer) to create a directions layer map using the variables from the previous step. Where the starting and ending city are the same city, the `waypoints` are the three other cities, and the `travel_mode` is either `\"DRIVING\"`, `\"BICYCLING\"`, or `\"WALKING\"`."
   ]
  },
  {
   "cell_type": "code",
   "execution_count": 23,
   "metadata": {
    "tags": []
   },
   "outputs": [
    {
     "data": {
      "application/vnd.jupyter.widget-view+json": {
       "model_id": "57d770604e294e879c3059239464cdc5",
       "version_major": 2,
       "version_minor": 0
      },
      "text/plain": [
       "Figure(layout=FigureLayout(height='420px'))"
      ]
     },
     "execution_count": 23,
     "metadata": {},
     "output_type": "execute_result"
    }
   ],
   "source": [
    "# Define a new figure object\n",
    "fig = gmaps.figure()\n",
    "\n",
    "# Create a direction layer map using the start and end latitude-longitude pairs, and stop1, stop2, and stop3 as the waypoints.\n",
    "# The travel_mode should be \"DRIVING\", \"BICYCLING\", or \"WALKING\".\n",
    "vacation_itinerary = gmaps.directions_layer(tuple_start, tuple_end, waypoints = [tuple_stop1, tuple_stop2, tuple_stop3], travel_mode = 'WALKING')\n",
    "# Add the layer to the map\n",
    "fig.add_layer(vacation_itinerary)\n",
    "\n",
    "# Display the map\n",
    "fig"
   ]
  },
  {
   "cell_type": "markdown",
   "metadata": {},
   "source": [
    "## Use the provided `concat()` function code snippet to combine the four separate city DataFrames into one DataFrame."
   ]
  },
  {
   "cell_type": "code",
   "execution_count": 24,
   "metadata": {},
   "outputs": [
    {
     "data": {
      "text/html": [
       "<div>\n",
       "<style scoped>\n",
       "    .dataframe tbody tr th:only-of-type {\n",
       "        vertical-align: middle;\n",
       "    }\n",
       "\n",
       "    .dataframe tbody tr th {\n",
       "        vertical-align: top;\n",
       "    }\n",
       "\n",
       "    .dataframe thead th {\n",
       "        text-align: right;\n",
       "    }\n",
       "</style>\n",
       "<table border=\"1\" class=\"dataframe\">\n",
       "  <thead>\n",
       "    <tr style=\"text-align: right;\">\n",
       "      <th></th>\n",
       "      <th>Unnamed: 0</th>\n",
       "      <th>City_ID</th>\n",
       "      <th>City</th>\n",
       "      <th>Country</th>\n",
       "      <th>Lat</th>\n",
       "      <th>Lng</th>\n",
       "      <th>Max Temp</th>\n",
       "      <th>Humidity</th>\n",
       "      <th>Cloudiness</th>\n",
       "      <th>Wind Speed</th>\n",
       "      <th>Current Description</th>\n",
       "      <th>Hotel Name</th>\n",
       "    </tr>\n",
       "  </thead>\n",
       "  <tbody>\n",
       "    <tr>\n",
       "      <th>0</th>\n",
       "      <td>427</td>\n",
       "      <td>427</td>\n",
       "      <td>Ascension</td>\n",
       "      <td>US</td>\n",
       "      <td>30.2169</td>\n",
       "      <td>-90.9001</td>\n",
       "      <td>72.07</td>\n",
       "      <td>94</td>\n",
       "      <td>0</td>\n",
       "      <td>0.00</td>\n",
       "      <td>mist</td>\n",
       "      <td>Highland Inn</td>\n",
       "    </tr>\n",
       "    <tr>\n",
       "      <th>1</th>\n",
       "      <td>521</td>\n",
       "      <td>521</td>\n",
       "      <td>Picayune</td>\n",
       "      <td>US</td>\n",
       "      <td>30.5255</td>\n",
       "      <td>-89.6795</td>\n",
       "      <td>70.79</td>\n",
       "      <td>82</td>\n",
       "      <td>38</td>\n",
       "      <td>0.47</td>\n",
       "      <td>scattered clouds</td>\n",
       "      <td>Holiday Inn Express &amp; Suites Picayune</td>\n",
       "    </tr>\n",
       "    <tr>\n",
       "      <th>2</th>\n",
       "      <td>575</td>\n",
       "      <td>575</td>\n",
       "      <td>Pascagoula</td>\n",
       "      <td>US</td>\n",
       "      <td>30.3658</td>\n",
       "      <td>-88.5561</td>\n",
       "      <td>69.85</td>\n",
       "      <td>96</td>\n",
       "      <td>20</td>\n",
       "      <td>0.00</td>\n",
       "      <td>few clouds</td>\n",
       "      <td>Regency Inn</td>\n",
       "    </tr>\n",
       "    <tr>\n",
       "      <th>3</th>\n",
       "      <td>622</td>\n",
       "      <td>622</td>\n",
       "      <td>Estelle</td>\n",
       "      <td>US</td>\n",
       "      <td>29.8458</td>\n",
       "      <td>-90.1067</td>\n",
       "      <td>75.20</td>\n",
       "      <td>86</td>\n",
       "      <td>0</td>\n",
       "      <td>3.44</td>\n",
       "      <td>clear sky</td>\n",
       "      <td>Ohio</td>\n",
       "    </tr>\n",
       "  </tbody>\n",
       "</table>\n",
       "</div>"
      ],
      "text/plain": [
       "   Unnamed: 0  City_ID        City Country      Lat      Lng  Max Temp  \\\n",
       "0         427      427   Ascension      US  30.2169 -90.9001     72.07   \n",
       "1         521      521    Picayune      US  30.5255 -89.6795     70.79   \n",
       "2         575      575  Pascagoula      US  30.3658 -88.5561     69.85   \n",
       "3         622      622     Estelle      US  29.8458 -90.1067     75.20   \n",
       "\n",
       "   Humidity  Cloudiness  Wind Speed Current Description  \\\n",
       "0        94           0        0.00                mist   \n",
       "1        82          38        0.47    scattered clouds   \n",
       "2        96          20        0.00          few clouds   \n",
       "3        86           0        3.44           clear sky   \n",
       "\n",
       "                              Hotel Name  \n",
       "0                           Highland Inn  \n",
       "1  Holiday Inn Express & Suites Picayune  \n",
       "2                            Regency Inn  \n",
       "3                                   Ohio  "
      ]
     },
     "execution_count": 24,
     "metadata": {},
     "output_type": "execute_result"
    }
   ],
   "source": [
    "#  Combine the four city DataFrames into one DataFrame using the concat() function.\n",
    "itinerary_df = pd.concat(\n",
    "    [\n",
    "        vacation_start,\n",
    "        vacation_stop1,\n",
    "        vacation_stop2,\n",
    "        vacation_stop3\n",
    "    ],\n",
    "    ignore_index = True\n",
    ")\n",
    "\n",
    "# Display sample data\n",
    "itinerary_df"
   ]
  },
  {
   "cell_type": "markdown",
   "metadata": {},
   "source": [
    "## Refactor the code from Step 6 to create a new marker layer map of the cities on the travel route."
   ]
  },
  {
   "cell_type": "code",
   "execution_count": 25,
   "metadata": {},
   "outputs": [],
   "source": [
    "# Review the formatting template\n",
    "info_box_template = \"\"\"\n",
    "<dl>\n",
    "<dt>Hotel Name</dt><dd>{Hotel Name}</dd>\n",
    "<dt>City</dt><dd>{City}</dd>\n",
    "<dt>Country</dt><dd>{Country}</dd>\n",
    "<dt>Current Weather</dt><dd>{Current Description} and {Max Temp} °F</dd>\n",
    "</dl>\n",
    "\"\"\"\n",
    "\n",
    "# Get the data from each row and add it to the formatting template and store the data in a list\n",
    "hotel_info = [info_box_template.format(**row) for index, row in itinerary_df.iterrows()]\n",
    "\n",
    "# Get the latitude and longitude from each row and store in a new DataFrame.\n",
    "locations = itinerary_df[[\"Lat\", \"Lng\"]]"
   ]
  },
  {
   "cell_type": "code",
   "execution_count": 28,
   "metadata": {},
   "outputs": [
    {
     "data": {
      "application/vnd.jupyter.widget-view+json": {
       "model_id": "517e8f0d81f2482294cb5a71334c5d30",
       "version_major": 2,
       "version_minor": 0
      },
      "text/plain": [
       "Figure(layout=FigureLayout(height='420px'))"
      ]
     },
     "execution_count": 28,
     "metadata": {},
     "output_type": "execute_result"
    }
   ],
   "source": [
    "# Add a marker layer for each city to the map.\n",
    "marker_layer = gmaps.marker_layer(locations, info_box_content=hotel_info)\n",
    "\n",
    "# Define a new figure object\n",
    "fig = gmaps.figure()\n",
    "\n",
    "# Add the layer to the map\n",
    "fig.add_layer(marker_layer)\n",
    "\n",
    "# Display the map\n",
    "fig"
   ]
  }
 ],
 "metadata": {
  "kernelspec": {
   "display_name": "Python 3.10.6 ('PythonData')",
   "language": "python",
   "name": "python3"
  },
  "language_info": {
   "codemirror_mode": {
    "name": "ipython",
    "version": 3
   },
   "file_extension": ".py",
   "mimetype": "text/x-python",
   "name": "python",
   "nbconvert_exporter": "python",
   "pygments_lexer": "ipython3",
   "version": "3.10.6"
  },
  "latex_envs": {
   "LaTeX_envs_menu_present": true,
   "autoclose": false,
   "autocomplete": true,
   "bibliofile": "biblio.bib",
   "cite_by": "apalike",
   "current_citInitial": 1,
   "eqLabelWithNumbers": true,
   "eqNumInitial": 1,
   "hotkeys": {
    "equation": "Ctrl-E",
    "itemize": "Ctrl-I"
   },
   "labels_anchors": false,
   "latex_user_defs": false,
   "report_style_numbering": false,
   "user_envs_cfg": false
  },
  "vscode": {
   "interpreter": {
    "hash": "2dcfd29bd517572926dd158fee666c35a52763570cef610bc31a35799be0279d"
   }
  }
 },
 "nbformat": 4,
 "nbformat_minor": 4
}
