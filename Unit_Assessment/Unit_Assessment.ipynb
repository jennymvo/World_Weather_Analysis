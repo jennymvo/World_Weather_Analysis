{
 "cells": [
  {
   "cell_type": "code",
   "execution_count": 1,
   "metadata": {},
   "outputs": [],
   "source": [
    "import os\n",
    "import csv\n",
    "cereal_csv = os.path.join('cereal.csv')"
   ]
  },
  {
   "cell_type": "code",
   "execution_count": 2,
   "metadata": {},
   "outputs": [
    {
     "name": "stdout",
     "output_type": "stream",
     "text": [
      "100% Bran\n",
      "All-Bran\n",
      "All-Bran with Extra Fiber\n",
      "Bran Flakes\n",
      "Fruit & Fibre Dates; Walnuts; and Oats\n",
      "Fruitful Bran\n",
      "Post Nat. Raisin Bran\n",
      "Raisin Bran\n"
     ]
    }
   ],
   "source": [
    "with open(cereal_csv, newline = '') as csvfile:\n",
    "    csvreader =csv.reader(csvfile, delimiter = ',')\n",
    "    csv_header = next(csvfile)\n",
    "    for row in csvreader:\n",
    "        if float(row[7]) >= 5:\n",
    "            print(row[0])"
   ]
  },
  {
   "cell_type": "code",
   "execution_count": 3,
   "metadata": {},
   "outputs": [
    {
     "ename": "ValueError",
     "evalue": "DataFrame constructor not properly called!",
     "output_type": "error",
     "traceback": [
      "\u001b[0;31m---------------------------------------------------------------------------\u001b[0m",
      "\u001b[0;31mValueError\u001b[0m                                Traceback (most recent call last)",
      "\u001b[1;32m/Users/jennyvo/git/World_Weather_Analysis/Unit_Assessment/Unit_Assessment.ipynb Cell 3\u001b[0m in \u001b[0;36m<cell line: 4>\u001b[0;34m()\u001b[0m\n\u001b[1;32m      <a href='vscode-notebook-cell:/Users/jennyvo/git/World_Weather_Analysis/Unit_Assessment/Unit_Assessment.ipynb#W2sZmlsZQ%3D%3D?line=0'>1</a>\u001b[0m \u001b[39mimport\u001b[39;00m \u001b[39mpandas\u001b[39;00m \u001b[39mas\u001b[39;00m \u001b[39mpd\u001b[39;00m\n\u001b[1;32m      <a href='vscode-notebook-cell:/Users/jennyvo/git/World_Weather_Analysis/Unit_Assessment/Unit_Assessment.ipynb#W2sZmlsZQ%3D%3D?line=2'>3</a>\u001b[0m donors2008 \u001b[39m=\u001b[39m os\u001b[39m.\u001b[39mpath\u001b[39m.\u001b[39mjoin(\u001b[39m'\u001b[39m\u001b[39mdonors2008.csv\u001b[39m\u001b[39m'\u001b[39m)\n\u001b[0;32m----> <a href='vscode-notebook-cell:/Users/jennyvo/git/World_Weather_Analysis/Unit_Assessment/Unit_Assessment.ipynb#W2sZmlsZQ%3D%3D?line=3'>4</a>\u001b[0m donors2008_df \u001b[39m=\u001b[39m pd\u001b[39m.\u001b[39;49mDataFrame(donors2008)\n\u001b[1;32m      <a href='vscode-notebook-cell:/Users/jennyvo/git/World_Weather_Analysis/Unit_Assessment/Unit_Assessment.ipynb#W2sZmlsZQ%3D%3D?line=5'>6</a>\u001b[0m groupedDonors \u001b[39m=\u001b[39m donors2008_df\u001b[39m.\u001b[39mgroupby(by \u001b[39m=\u001b[39m \u001b[39m'\u001b[39m\u001b[39mState\u001b[39m\u001b[39m'\u001b[39m)\u001b[39m.\u001b[39msum()[\u001b[39m'\u001b[39m\u001b[39mAmount\u001b[39m\u001b[39m'\u001b[39m]\n\u001b[1;32m      <a href='vscode-notebook-cell:/Users/jennyvo/git/World_Weather_Analysis/Unit_Assessment/Unit_Assessment.ipynb#W2sZmlsZQ%3D%3D?line=6'>7</a>\u001b[0m groupedDonors_df \u001b[39m=\u001b[39m pd\u001b[39m.\u001b[39mDataFrame(groupedDonors)\n",
      "File \u001b[0;32m~/anaconda3/envs/PythonData/lib/python3.10/site-packages/pandas/core/frame.py:756\u001b[0m, in \u001b[0;36mDataFrame.__init__\u001b[0;34m(self, data, index, columns, dtype, copy)\u001b[0m\n\u001b[1;32m    753\u001b[0m \u001b[39m# For data is scalar\u001b[39;00m\n\u001b[1;32m    754\u001b[0m \u001b[39melse\u001b[39;00m:\n\u001b[1;32m    755\u001b[0m     \u001b[39mif\u001b[39;00m index \u001b[39mis\u001b[39;00m \u001b[39mNone\u001b[39;00m \u001b[39mor\u001b[39;00m columns \u001b[39mis\u001b[39;00m \u001b[39mNone\u001b[39;00m:\n\u001b[0;32m--> 756\u001b[0m         \u001b[39mraise\u001b[39;00m \u001b[39mValueError\u001b[39;00m(\u001b[39m\"\u001b[39m\u001b[39mDataFrame constructor not properly called!\u001b[39m\u001b[39m\"\u001b[39m)\n\u001b[1;32m    758\u001b[0m     \u001b[39m# Argument 1 to \"ensure_index\" has incompatible type \"Collection[Any]\";\u001b[39;00m\n\u001b[1;32m    759\u001b[0m     \u001b[39m# expected \"Union[Union[Union[ExtensionArray, ndarray],\u001b[39;00m\n\u001b[1;32m    760\u001b[0m     \u001b[39m# Index, Series], Sequence[Any]]\"\u001b[39;00m\n\u001b[1;32m    761\u001b[0m     index \u001b[39m=\u001b[39m ensure_index(index)  \u001b[39m# type: ignore[arg-type]\u001b[39;00m\n",
      "\u001b[0;31mValueError\u001b[0m: DataFrame constructor not properly called!"
     ]
    }
   ],
   "source": [
    "import pandas as pd\n",
    "\n",
    "donors2008 = os.path.join('donors2008.csv')\n",
    "donors2008_df = pd.DataFrame(donors2008)\n",
    "\n",
    "groupedDonors = donors2008_df.groupby(by = 'State').sum()['Amount']\n",
    "groupedDonors_df = pd.DataFrame(groupedDonors)\n",
    "groupedDonors_df"
   ]
  }
 ],
 "metadata": {
  "kernelspec": {
   "display_name": "Python 3.10.6 ('PythonData')",
   "language": "python",
   "name": "python3"
  },
  "language_info": {
   "codemirror_mode": {
    "name": "ipython",
    "version": 3
   },
   "file_extension": ".py",
   "mimetype": "text/x-python",
   "name": "python",
   "nbconvert_exporter": "python",
   "pygments_lexer": "ipython3",
   "version": "3.10.6"
  },
  "orig_nbformat": 4,
  "vscode": {
   "interpreter": {
    "hash": "2dcfd29bd517572926dd158fee666c35a52763570cef610bc31a35799be0279d"
   }
  }
 },
 "nbformat": 4,
 "nbformat_minor": 2
}
